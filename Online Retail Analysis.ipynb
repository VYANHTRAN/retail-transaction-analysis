{
 "cells": [
  {
   "cell_type": "code",
   "execution_count": 6,
   "id": "2abaab5f",
   "metadata": {
    "ExecuteTime": {
     "end_time": "2025-02-14T14:08:26.560369Z",
     "start_time": "2025-02-14T14:08:16.383883Z"
    }
   },
   "outputs": [],
   "source": [
    "import datetime as dt\n",
    "import pandas as pd\n",
    "import numpy as np\n",
    "\n",
    "import matplotlib as plt\n",
    "\n",
    "import warnings\n",
    "warnings.filterwarnings('ignore')\n",
    "\n",
    "pd.set_option('display.max_columns', 50)\n",
    "pd.set_option('display.max_rows', 50)"
   ]
  },
  {
   "cell_type": "code",
   "execution_count": null,
   "id": "72b0f84b",
   "metadata": {
    "ExecuteTime": {
     "end_time": "2025-02-14T14:15:14.213142Z",
     "start_time": "2025-02-14T14:13:02.827913Z"
    }
   },
   "outputs": [],
   "source": [
    "df = pd.read_excel('../Dataset/Online Retail.xlsx')"
   ]
  },
  {
   "cell_type": "code",
   "execution_count": null,
   "id": "2e6aabfb",
   "metadata": {
    "ExecuteTime": {
     "end_time": "2025-02-14T14:15:29.435823Z",
     "start_time": "2025-02-14T14:15:29.421215Z"
    }
   },
   "outputs": [],
   "source": [
    "df.shape"
   ]
  },
  {
   "cell_type": "code",
   "execution_count": null,
   "id": "778ed853",
   "metadata": {},
   "outputs": [],
   "source": [
    "df.info()"
   ]
  },
  {
   "cell_type": "code",
   "execution_count": null,
   "id": "2249f31b",
   "metadata": {},
   "outputs": [],
   "source": [
    "df[['InvoiceNo','StockCode']].duplicated().sum() - df.duplicated().sum()"
   ]
  },
  {
   "cell_type": "code",
   "execution_count": null,
   "id": "6930fdf3",
   "metadata": {},
   "outputs": [],
   "source": [
    "df.head()"
   ]
  },
  {
   "cell_type": "code",
   "execution_count": null,
   "id": "45ac1b8c",
   "metadata": {},
   "outputs": [],
   "source": [
    "df[df[['CustomerID','InvoiceNo','StockCode']].duplicated()==True]"
   ]
  },
  {
   "cell_type": "code",
   "execution_count": null,
   "id": "c253b8b5",
   "metadata": {},
   "outputs": [],
   "source": [
    "df[((df['CustomerID']==17908.0)&(df['InvoiceNo']==536409)&(df['StockCode']=='90199C'))]"
   ]
  },
  {
   "cell_type": "code",
   "execution_count": null,
   "id": "e3006655",
   "metadata": {},
   "outputs": [],
   "source": [
    "df.Quantity.describe()"
   ]
  },
  {
   "cell_type": "code",
   "execution_count": null,
   "id": "3cc00224",
   "metadata": {},
   "outputs": [],
   "source": [
    "df[df['Quantity']<0].shape[0]"
   ]
  },
  {
   "cell_type": "code",
   "execution_count": null,
   "id": "3e18ae7a",
   "metadata": {},
   "outputs": [],
   "source": [
    "df[df['Quantity']<0].InvoiceNo.str.startswith('C').value_counts(dropna=False)"
   ]
  },
  {
   "cell_type": "code",
   "execution_count": null,
   "id": "14358fa4",
   "metadata": {},
   "outputs": [],
   "source": [
    "df[df['Quantity']<0][df[df['Quantity']<0].InvoiceNo.str.startswith('C').isnull()].Description.value_counts()"
   ]
  },
  {
   "cell_type": "code",
   "execution_count": null,
   "id": "15349e4a",
   "metadata": {},
   "outputs": [],
   "source": [
    "df.boxplot('Quantity',showfliers=False)"
   ]
  },
  {
   "cell_type": "code",
   "execution_count": null,
   "id": "e55eca3b",
   "metadata": {},
   "outputs": [],
   "source": [
    "df['OrderCancel'] = df['InvoiceNo'].str.startswith('C')\n",
    "df[df['Quantity']<0]['OrderCancel'].value_counts(dropna=False)"
   ]
  },
  {
   "cell_type": "code",
   "execution_count": null,
   "id": "8247959d",
   "metadata": {},
   "outputs": [],
   "source": [
    "df.isnull().sum()"
   ]
  },
  {
   "cell_type": "markdown",
   "id": "15b151a3",
   "metadata": {},
   "source": [
    "BASIC DATA CLEANING"
   ]
  },
  {
   "cell_type": "code",
   "execution_count": null,
   "id": "ad33cec8",
   "metadata": {},
   "outputs": [],
   "source": [
    "# df = df.drop_duplicates()\n",
    "df = df.drop_duplicates(subset = ['InvoiceNo','StockCode','Quantity'])\n",
    "df = df[df['CustomerID'].notnull()]\n",
    "df['InvoiceDate'] = pd.to_datetime(df['InvoiceDate'])\n",
    "df = df[df['Quantity'] > 0]\n",
    "df.shape"
   ]
  },
  {
   "cell_type": "markdown",
   "id": "d40afa92",
   "metadata": {},
   "source": [
    "# Time Series Trends Analysis"
   ]
  },
  {
   "cell_type": "code",
   "execution_count": null,
   "id": "5d16efcd",
   "metadata": {},
   "outputs": [],
   "source": [
    "df['InvoiceDate'].min()"
   ]
  },
  {
   "cell_type": "code",
   "execution_count": null,
   "id": "db08989b",
   "metadata": {},
   "outputs": [],
   "source": [
    "df['InvoiceDate'].max()"
   ]
  },
  {
   "cell_type": "code",
   "execution_count": null,
   "id": "5af6f186",
   "metadata": {},
   "outputs": [],
   "source": [
    "df.head(1)"
   ]
  },
  {
   "cell_type": "code",
   "execution_count": null,
   "id": "033f7ad1",
   "metadata": {},
   "outputs": [],
   "source": [
    "df['order_year_month'] = df['InvoiceDate'].dt.strftime('%Y-%m')"
   ]
  },
  {
   "cell_type": "code",
   "execution_count": null,
   "id": "856a5726",
   "metadata": {},
   "outputs": [],
   "source": [
    "df.groupby('order_year_month').InvoiceNo.nunique().plot()"
   ]
  },
  {
   "cell_type": "code",
   "execution_count": null,
   "id": "33593182",
   "metadata": {},
   "outputs": [],
   "source": [
    "plt.figure(figsize=[10,5])\n",
    "plt.plot(montly_orders_df)"
   ]
  },
  {
   "cell_type": "code",
   "execution_count": null,
   "id": "5ce7439f",
   "metadata": {},
   "outputs": [],
   "source": [
    "plt.figure(figsize=[10,5])\n",
    "plt.plot(df.groupby('order_year_month').InvoiceNo.nunique())"
   ]
  },
  {
   "cell_type": "code",
   "execution_count": null,
   "id": "ce892a60",
   "metadata": {},
   "outputs": [],
   "source": [
    "ax = df.groupby('order_year_month').InvoiceNo.nunique().plot(figsize=(10,7),grid=True)\n",
    "ax.set_title('Total number of order overtime')\n",
    "ax.set_ylabel('number of orders')"
   ]
  },
  {
   "cell_type": "code",
   "execution_count": null,
   "id": "cdd742db",
   "metadata": {},
   "outputs": [],
   "source": [
    "df[df['order_year_month']=='2011-12']['InvoiceDate'].min(),df[df['order_year_month']=='2011-12']['InvoiceDate'].max()"
   ]
  },
  {
   "cell_type": "code",
   "execution_count": null,
   "id": "d9792848",
   "metadata": {},
   "outputs": [],
   "source": [
    "###Filter out incomplete data for December 2011\n",
    "df = df[df['order_year_month']<'2011-12']"
   ]
  },
  {
   "cell_type": "code",
   "execution_count": null,
   "id": "da3406b3",
   "metadata": {},
   "outputs": [],
   "source": [
    "df.groupby('order_year_month').InvoiceNo.nunique().plot(grid=True,figsize=(10,7))"
   ]
  },
  {
   "cell_type": "code",
   "execution_count": null,
   "id": "7c71a34a",
   "metadata": {},
   "outputs": [],
   "source": [
    "sale_df = df.groupby('order_year_month').InvoiceNo.nunique().reset_index()\n",
    "sale_df.columns = ['OrderDate','Quantity']"
   ]
  },
  {
   "cell_type": "code",
   "execution_count": null,
   "id": "18396e67",
   "metadata": {},
   "outputs": [],
   "source": [
    "revenu_df = df.groupby('order_year_month').Revenue.sum().reset_index()\n",
    "revenu_df.columns = ['OrderDate','Revenue']"
   ]
  },
  {
   "cell_type": "code",
   "execution_count": null,
   "id": "66e517d7",
   "metadata": {},
   "outputs": [],
   "source": [
    "sale_df = sale_df.merge(revenu_df,on='OrderDate',how='left')\n",
    "sale_df"
   ]
  },
  {
   "cell_type": "code",
   "execution_count": null,
   "id": "e10425c8",
   "metadata": {},
   "outputs": [],
   "source": [
    "sale_df.to_csv('sales.csv',index=False)"
   ]
  },
  {
   "cell_type": "markdown",
   "id": "c10a867a",
   "metadata": {},
   "source": [
    "Visualize Montly Revenue Data"
   ]
  },
  {
   "cell_type": "code",
   "execution_count": null,
   "id": "60f9e25b",
   "metadata": {},
   "outputs": [],
   "source": [
    "df['Revenue'] = df['Quantity']*df['UnitPrice']\n",
    "ax = df.groupby('order_year_month').Revenue.sum().plot(figsize=(10,7),grid=True)\n",
    "ax.set_title('Total Revenue Over Time')\n",
    "ax.set_ylabel('Sale Revenue')\n",
    "ax.set_xlabel('Date')"
   ]
  },
  {
   "cell_type": "markdown",
   "id": "4a141498",
   "metadata": {},
   "source": [
    "# Repeat Purchases Analysis "
   ]
  },
  {
   "cell_type": "code",
   "execution_count": null,
   "id": "df4940e5",
   "metadata": {},
   "outputs": [],
   "source": [
    "####Calculate montly repeat purchases\n",
    "grouped_df = df.groupby(['order_year_month','CustomerID'])['InvoiceNo'].nunique().reset_index()\n",
    "repeat_customer_df = grouped_df[grouped_df['InvoiceNo']>=2].groupby('order_year_month').CustomerID.count().reset_index()\n",
    "repeat_customer_df.columns=['orderDate','nbr_repeat_customers']"
   ]
  },
  {
   "cell_type": "code",
   "execution_count": null,
   "id": "669bdbf3",
   "metadata": {},
   "outputs": [],
   "source": [
    "repeat_customer_df"
   ]
  },
  {
   "cell_type": "code",
   "execution_count": null,
   "id": "74ae4695",
   "metadata": {},
   "outputs": [],
   "source": [
    "full_customer_df = grouped_df.groupby('order_year_month')\\\n",
    ".CustomerID.count().reset_index()\n",
    "full_customer_df.columns = ['orderDate','nbr_customer']"
   ]
  },
  {
   "cell_type": "code",
   "execution_count": null,
   "id": "9134794e",
   "metadata": {},
   "outputs": [],
   "source": [
    "full_customer_df.columns"
   ]
  },
  {
   "cell_type": "code",
   "execution_count": null,
   "id": "281082c0",
   "metadata": {},
   "outputs": [],
   "source": [
    "repeat_customer_df = repeat_customer_df.merge(full_customer_df,on='orderDate',how='left')"
   ]
  },
  {
   "cell_type": "code",
   "execution_count": null,
   "id": "64470517",
   "metadata": {},
   "outputs": [],
   "source": [
    "repeat_customer_df"
   ]
  },
  {
   "cell_type": "code",
   "execution_count": null,
   "id": "9f823dda",
   "metadata": {},
   "outputs": [],
   "source": [
    "repeat_customer_df['repeated_cst_pct'] = round(100*(repeat_customer_df['nbr_repeat_customers']\\\n",
    "                                                    /repeat_customer_df['nbr_customer']),2)"
   ]
  },
  {
   "cell_type": "code",
   "execution_count": null,
   "id": "9f2a9973",
   "metadata": {},
   "outputs": [],
   "source": [
    "repeat_customer_df"
   ]
  },
  {
   "cell_type": "code",
   "execution_count": null,
   "id": "14183867",
   "metadata": {},
   "outputs": [],
   "source": [
    "grouped_df = df.groupby(['order_year_month','CustomerID'])\\\n",
    ".agg({'InvoiceNo':'nunique','Revenue':'sum'}).reset_index()"
   ]
  },
  {
   "cell_type": "code",
   "execution_count": null,
   "id": "b41d213a",
   "metadata": {},
   "outputs": [],
   "source": [
    "grouped_df"
   ]
  },
  {
   "cell_type": "code",
   "execution_count": null,
   "id": "8cfa32b6",
   "metadata": {},
   "outputs": [],
   "source": [
    "repeat_revenue_df = grouped_df[grouped_df['InvoiceNo']>=2]\\\n",
    ".groupby('order_year_month').Revenue.sum().reset_index()\n",
    "repeat_revenue_df.columns = ['orderDate','repeat_customer_revenue']\n",
    "full_revenue_df =  grouped_df.groupby('order_year_month')\\\n",
    ".Revenue.sum().reset_index()\n",
    "full_revenue_df.columns=['orderDate','revenue']\n",
    "repeat_revenue_df = repeat_revenue_df.merge(full_revenue_df,on='orderDate',how='left')\n",
    "repeat_revenue_df['repeat_customer_revenue_contribution'] = round(100*(repeat_revenue_df['repeat_customer_revenue']\\\n",
    "                                                                 /repeat_revenue_df['revenue']),2)"
   ]
  },
  {
   "cell_type": "code",
   "execution_count": null,
   "id": "6fcd2d4c",
   "metadata": {},
   "outputs": [],
   "source": [
    "repeat_revenue_df"
   ]
  },
  {
   "cell_type": "code",
   "execution_count": null,
   "id": "7d16287f",
   "metadata": {},
   "outputs": [],
   "source": [
    "repeat_customer_df"
   ]
  },
  {
   "cell_type": "code",
   "execution_count": null,
   "id": "8535b34a",
   "metadata": {},
   "outputs": [],
   "source": [
    "fig, ax = plt.subplots(figsize=(10,5))\n",
    "repeat_customer_df[['orderDate','repeated_cst_pct']].set_index('orderDate')\\\n",
    ".plot(kind='line',ax=ax,linewidth=3,color='grey')\n",
    "repeat_revenue_df[['orderDate','repeat_customer_revenue_contribution']].set_index('orderDate')\\\n",
    ".plot(kind='line',ax=ax,color='grey',linewidth = 3)\n",
    "ax.get_legend().remove()\n",
    "xdata2 = lines[0].get_xdata()[1:5]\n",
    "ydata2 = lines[0].get_ydata()[1:5]\n",
    "ax.plot(xdata2,ydata2,color='blue',linewidth=3)\n",
    "xdata2 = lines[0].get_xdata()[[1,2,3,4]]\n",
    "ydata2 = lines[0].get_ydata()[[1,2,3,4]]\n",
    "ax.plot(xdata2,ydata2,color='blue',linewidth=3)\n",
    "xdata2 = lines[0].get_xdata()[[8,9,10]]\n",
    "ydata2 = lines[0].get_ydata()[[8,9,10]]\n",
    "ax.plot(xdata2,ydata2,color='blue',linewidth=3)\n",
    "xdata2 = lines[1].get_xdata()[[1,2,3,4]]\n",
    "ydata2 = lines[1].get_ydata()[[1,2,3,4]]\n",
    "ax.plot(xdata2,ydata2,color='orange',linewidth=3)\n",
    "xdata2 = lines[1].get_xdata()[[8,9,10]]\n",
    "ydata2 = lines[1].get_ydata()[[8,9,10]]\n",
    "ax.plot(xdata2,ydata2,color='orange',linewidth=3)\n",
    "ax.spines[['top','right']].set_visible(False)\n",
    "lines = ax.lines\n",
    "# xdata = lines[0].get_xdata()[3]\n",
    "# ydata = lines[0].get_ydata()[3]\n",
    "# ax.text(xdata,ydata+1,ydata)\n",
    "# xdata = lines[1].get_xdata()[3]\n",
    "# ydata = lines[1].get_ydata()[3]\n",
    "# ax.text(xdata,ydata+1,ydata)\n",
    "# xdata = lines[0].get_xdata()[8]\n",
    "# ydata = lines[0].get_ydata()[8]\n",
    "# ax.text(xdata,ydata+1,ydata)\n",
    "# xdata = lines[1].get_xdata()[8]\n",
    "# ydata = lines[1].get_ydata()[8]\n",
    "# ax.text(xdata,ydata+1,ydata)\n",
    "xdata = lines[0].get_xdata()[2]\n",
    "ydata = lines[0].get_ydata()[2]\n",
    "ax.text(xdata,ydata+2,'avg = 20%')\n",
    "xdata = lines[0].get_xdata()[8]\n",
    "ydata = lines[0].get_ydata()[8]\n",
    "ax.text(xdata,ydata+2,'avg = 22%')\n",
    "xdata = lines[1].get_xdata()[2]\n",
    "ydata = lines[1].get_ydata()[2]\n",
    "ax.text(xdata,ydata+3,'avg = 42%')\n",
    "xdata = lines[1].get_xdata()[8]\n",
    "ydata = lines[1].get_ydata()[8]\n",
    "ax.text(xdata,ydata+2,'avg = 52%',rotation=20)\n",
    "# for i in range(2):\n",
    "#     xdata = lines[i].get_xdata()\n",
    "#     ydata = lines[i].get_ydata()\n",
    "#     for x, y in zip(xdata,ydata):\n",
    "#         ax.text(x,y+1,y)"
   ]
  },
  {
   "cell_type": "markdown",
   "id": "de9ede0b",
   "metadata": {},
   "source": [
    "Insight: Tỷ lệ % repeat customers giai đoạn 4 tháng đầu năm và 3 tháng 8, 9, 10 dao động 20%, \n",
    "có xu hướng tăng mạnh vào các tháng cuối năm. Tuy nhiên ở giai đoạn đầu năm 20% repeat customers chỉ mang lại tối đa 44.83% doanh thu,\n",
    "ngược lại ở giai đoạn sau mặc dù tỷ lệ khách hàng trung thành cũng chỉ chiếm có 22% nhưng doanh thu mang lai lên tới 52%.\n",
    "Như vậy 1% repeat customer tăng thêm trong giai đoạn này giúp tăng thêm 5% doanh thu.\n",
    "ACTION: đưa ra các gói kích thích khách hàng cũ mua hàng trong giai đoạn này."
   ]
  },
  {
   "cell_type": "markdown",
   "id": "eff48083",
   "metadata": {},
   "source": [
    "# Trending items over time"
   ]
  },
  {
   "cell_type": "code",
   "execution_count": null,
   "id": "8f21fb46",
   "metadata": {},
   "outputs": [],
   "source": [
    "data_item_df = df.groupby(['order_year_month','StockCode']).Quantity.sum().reset_index()"
   ]
  },
  {
   "cell_type": "code",
   "execution_count": null,
   "id": "b755f34e",
   "metadata": {},
   "outputs": [],
   "source": [
    "# Rank items by the last month sales\n",
    "data_item_df[data_item_df['order_year_month']=='2011-11'].sort_values(by='Quantity',ascending=False)"
   ]
  },
  {
   "cell_type": "code",
   "execution_count": null,
   "id": "8c476eb0",
   "metadata": {},
   "outputs": [],
   "source": [
    "best_seller_items = [23084,84826,22197,22086,'85099B']\n",
    "trending_items_df = df[df['StockCode'].isin(best_seller_items)]\\\n",
    ".groupby(['order_year_month','StockCode']).Quantity.sum()"
   ]
  },
  {
   "cell_type": "code",
   "execution_count": null,
   "id": "4c8adb1f",
   "metadata": {},
   "outputs": [],
   "source": [
    "ax = trending_items_df.unstack().fillna(0).plot()\n",
    "ax.set_ylabel('number of orders')\n",
    "ax.set_xlabel('date')\n",
    "ax.set_title('Item Trends over Time')"
   ]
  },
  {
   "cell_type": "code",
   "execution_count": null,
   "id": "8b67bfd9",
   "metadata": {},
   "outputs": [],
   "source": [
    "ax = trending_items_df.unstack().fillna(0).plot(color=['dimgray','grey','darkgray','Blue','silver'],figsize=[10,5],linewidth=3)\n",
    "ax.set_ylabel('number of orders')\n",
    "ax.set_xlabel('date')\n",
    "ax.set_title('Item Trends over Time')"
   ]
  },
  {
   "cell_type": "code",
   "execution_count": null,
   "id": "d2aa13cb",
   "metadata": {},
   "outputs": [],
   "source": [
    "trending_items_Revenue_df = df[df['StockCode'].isin(best_seller_items)].groupby(['order_year_month','StockCode']).Revenue.sum()\n",
    "ax = trending_items_Revenue_df.unstack().fillna(0).plot(color=['dimgray','grey','darkgray','Blue','silver'],figsize=[10,5],linewidth=3)\n",
    "ax.set_ylabel('total revenue')\n",
    "ax.set_xlabel('date')\n",
    "ax.set_title('Item Revenue per month')"
   ]
  },
  {
   "cell_type": "code",
   "execution_count": null,
   "id": "60600b80",
   "metadata": {},
   "outputs": [],
   "source": [
    "df[((df['StockCode']==84826)&(df['order_year_month']=='2011-11'))]"
   ]
  },
  {
   "cell_type": "raw",
   "id": "230c810b",
   "metadata": {},
   "source": [
    "# StockCode=84826 ban duoc voi so luong rat it qua cac thang. Rieng thang 11 so luong vot len dot bien boi vi toan bo so luong con lai da duoc tang cho khach hang voi ma ID 13256"
   ]
  },
  {
   "cell_type": "raw",
   "id": "1a131944",
   "metadata": {},
   "source": [
    "Is UnitPrice change overtime?"
   ]
  },
  {
   "cell_type": "code",
   "execution_count": null,
   "id": "5ce1842c",
   "metadata": {},
   "outputs": [],
   "source": [
    "df['dayinweek'] = df['InvoiceDate'].dt.weekday"
   ]
  },
  {
   "cell_type": "code",
   "execution_count": null,
   "id": "0404c8a3",
   "metadata": {},
   "outputs": [],
   "source": [
    "df['dayinweek'].value_counts()"
   ]
  },
  {
   "cell_type": "code",
   "execution_count": null,
   "id": "aad07a97",
   "metadata": {},
   "outputs": [],
   "source": [
    "#### san pham nao nen ban vao thoi gian nao?Phai loai bo cac san pham co discount hoac trong chien dich campaign.\n",
    "fig,ax = plt.subplots(5,1,figsize=(10,8))\n",
    "i=0\n",
    "colors =['blue','orange','red','grey','green']\n",
    "for ax1 in ax:\n",
    "    df[df['StockCode']==best_seller_items[i]].groupby('dayinweek')['Quantity'].sum()\\\n",
    "    .plot(kind='line',ax=ax1,color=colors[i])\n",
    "    ax1.spines[['bottom','top','left','right']].set_color('#DCDCDC')\n",
    "    ticks = ax1.get_xticks()\n",
    "    ax1.set_xlabel('')\n",
    "#     ax1.set_xticklabels(['Monday','Tuesday','Wenesday','Thursday','Friday','Saturday','Sunday'])\n",
    "    ax1.set_ylabel(best_seller_items[i])\n",
    "    i+=1\n",
    "ax1.set_xlabel('Month Of Order Date')\n",
    "plt.xticks(range(7),['Monday','Tuesday','Wenesday','Thursday','Friday','Saturday','Sunday'])"
   ]
  },
  {
   "cell_type": "code",
   "execution_count": null,
   "id": "792177c8",
   "metadata": {},
   "outputs": [],
   "source": [
    "df['day'] = df['InvoiceDate'].dt.day\n",
    "df['day'].value_counts()"
   ]
  },
  {
   "cell_type": "code",
   "execution_count": null,
   "id": "3e9bb683",
   "metadata": {},
   "outputs": [],
   "source": [
    "fig,ax = plt.subplots(5,1,figsize=(10,8))\n",
    "i=0\n",
    "colors =['blue','orange','red','grey','green']\n",
    "for ax1 in ax:\n",
    "    df[df['StockCode']==best_seller_items[i]].groupby('day')['Quantity'].sum()\\\n",
    "    .plot(kind='line',ax=ax1,color=colors[i])\n",
    "    ax1.spines[['bottom','top','left','right']].set_color('#DCDCDC')\n",
    "    ticks = ax1.get_xticks()\n",
    "    ax1.set_xlabel('')\n",
    "#     ax1.set_xticklabels(['Monday','Tuesday','Wenesday','Thursday','Friday','Saturday','Sunday'])\n",
    "    ax1.set_ylabel(best_seller_items[i])\n",
    "    i+=1"
   ]
  }
 ],
 "metadata": {
  "kernelspec": {
   "display_name": "Python 3 (ipykernel)",
   "language": "python",
   "name": "python3"
  },
  "language_info": {
   "codemirror_mode": {
    "name": "ipython",
    "version": 3
   },
   "file_extension": ".py",
   "mimetype": "text/x-python",
   "name": "python",
   "nbconvert_exporter": "python",
   "pygments_lexer": "ipython3",
   "version": "3.12.7"
  }
 },
 "nbformat": 4,
 "nbformat_minor": 5
}
